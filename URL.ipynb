{
 "cells": [
  {
   "cell_type": "code",
   "execution_count": 12,
   "id": "407ead5e-535f-4416-9a2d-6201f3315da9",
   "metadata": {},
   "outputs": [
    {
     "name": "stdout",
     "output_type": "stream",
     "text": [
      "Subcategory data saved to udemy_subcategories.csv\n"
     ]
    }
   ],
   "source": [
    "import requests\n",
    "import json\n",
    "import pandas as pd\n",
    "\n",
    "# Fetch JSON data\n",
    "test_url = 'https://www.udemy.com/frontends-homepage/api/context/?locale=en'\n",
    "response = requests.get(url=test_url)\n",
    "raw_text = response.text\n",
    "\n",
    "# Remove the JavaScript prefix\n",
    "json_text = raw_text[len(\"window.__UDMY_APP_CONTEXT = \"):]\n",
    "\n",
    "# Convert string to JSON\n",
    "data = json.loads(json_text)\n",
    "\n",
    "# Extract navigation categories\n",
    "categories = data[\"header\"].get(\"navigationCategories\", [])\n",
    "\n",
    "# List to store subcategory data\n",
    "subcategory_list = []\n",
    "\n",
    "for category in categories:\n",
    "    category_data = category[\"sd_tag\"]\n",
    "    \n",
    "    # Extract subcategories\n",
    "    subcategories = category.get(\"sublist\", {}).get(\"items\", [])\n",
    "    \n",
    "    for sub in subcategories:\n",
    "        sub_data = sub[\"sd_tag\"]\n",
    "        subcategory_list.append({\n",
    "            \"Main Category ID\": category_data[\"id\"],\n",
    "            \"Main Category Title\": category_data[\"title\"],\n",
    "            \"Main Category URL\": category_data[\"url\"],\n",
    "            \"Subcategory ID\": sub_data[\"id\"],\n",
    "            \"Subcategory Title\": sub_data[\"title\"],\n",
    "            \"Subcategory URL\": sub_data[\"url\"],\n",
    "            \"Subcategory Icon Class\": sub_data[\"icon_class\"],\n",
    "            \"Subcategory Type\": sub_data[\"type\"]\n",
    "        })\n",
    "\n",
    "# Convert to DataFrame\n",
    "df = pd.DataFrame(subcategory_list)\n",
    "\n",
    "# Export to CSV\n",
    "csv_filename = \"udemy_subcategories.csv\"\n",
    "df.to_csv(csv_filename, index=False)\n",
    "\n",
    "print(f\"Subcategory data saved to {csv_filename}\")"
   ]
  },
  {
   "cell_type": "code",
   "execution_count": null,
   "id": "4db2d05c-d007-4aff-abaf-ea27edff320c",
   "metadata": {},
   "outputs": [],
   "source": []
  }
 ],
 "metadata": {
  "kernelspec": {
   "display_name": "Python 3 (ipykernel)",
   "language": "python",
   "name": "python3"
  },
  "language_info": {
   "codemirror_mode": {
    "name": "ipython",
    "version": 3
   },
   "file_extension": ".py",
   "mimetype": "text/x-python",
   "name": "python",
   "nbconvert_exporter": "python",
   "pygments_lexer": "ipython3",
   "version": "3.10.10"
  }
 },
 "nbformat": 4,
 "nbformat_minor": 5
}
